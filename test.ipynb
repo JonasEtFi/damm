{
 "cells": [
  {
   "cell_type": "code",
   "execution_count": 1,
   "metadata": {},
   "outputs": [],
   "source": [
    "import os\n",
    "import numpy as np\n",
    "\n",
    "from damm.main   import damm   as damm_class\n",
    "from util import load_tools, plot_tools"
   ]
  },
  {
   "cell_type": "code",
   "execution_count": 2,
   "metadata": {},
   "outputs": [
    {
     "name": "stdout",
     "output_type": "stream",
     "text": [
      "DAMM hrllo\n",
      "testMe\n"
     ]
    }
   ],
   "source": [
    "dim = 6#Data.shape[0]\n",
    "\n",
    "damm_config ={\n",
    "    \"mu_0\":           np.zeros((dim, )), \n",
    "    \"sigma_0\":        1 * np.eye(dim),\n",
    "    \"nu_0\":           dim,\n",
    "    \"kappa_0\":        0.1,\n",
    "    \"sigma_dir_0\":    0.1,\n",
    "    \"min_threshold\":  50\n",
    "}\n",
    "\n",
    "damm = damm_class(damm_config)  "
   ]
  }
 ],
 "metadata": {
  "interpreter": {
   "hash": "b2e79462d1533a617a006fd0187bf9f7643be74563fff90f9c8c3c368b3ccd93"
  },
  "kernelspec": {
   "display_name": "Python 3.10.11 ('damm')",
   "language": "python",
   "name": "python3"
  },
  "language_info": {
   "codemirror_mode": {
    "name": "ipython",
    "version": 3
   },
   "file_extension": ".py",
   "mimetype": "text/x-python",
   "name": "python",
   "nbconvert_exporter": "python",
   "pygments_lexer": "ipython3",
   "version": "3.10.11"
  },
  "orig_nbformat": 4
 },
 "nbformat": 4,
 "nbformat_minor": 2
}
